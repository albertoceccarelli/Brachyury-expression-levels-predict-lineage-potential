{
 "cells": [
  {
   "cell_type": "markdown",
   "metadata": {},
   "source": [
    "## Supplementary notebook for Brachyury expression levels predict lineage potential and axis-forming ability of in vitro derived neuromesodermal progenitors.\n",
    "\n",
    "$Anahí\\text{ }Binagui\\text{-}Casas^{1\\text{,}*\\text{,}\\#}$, $Anna\\text{ }Granés^{1\\text{,}*}$, $Alberto\\text{ }Ceccarelli^2$, $Filip\\text{ }J.\\text{ }Wymeersch^3$, $Matthew\\text{ }French^4$, $Rosa\\text{ }Portero^1$, $Jen\\text{ }Annoh^1$, $Yali\\text{ }Huang^5$, $Eleni\\text{ }Karagianni^6$, $Frederick\\text{ }C.\\text{ }K.\\text{ }Wong^7$, $A.\\text{ }Sophie\\text{ }Brumm^1$, $Daniel\\text{ }Lopez\\text{ }Ramajo^8$, $Minoru\\text{ }Takasato^{3\\text{,}9}$, $Sally\\text{ }Lowell^1$, $Osvaldo\\text{ }Chara^{2\\text{,}10}$, $Valerie\\text{ }Wilson^{1\\text{,}\\#}$\n",
    "\n",
    "\n",
    "<pre>\n",
    "  1.       Institute for Regeneration and Repair, Centre for Regenerative Medicine, Institute for Stem Cell Research, School of Biological Sciences, University of Edinburgh, 5 Little France Drive, Edinburgh EH16 4UU, Scotland.\n",
    "\n",
    "  2.       School of Biosciences, University of Nottingham, Sutton Bonington Campus, Nottingham LE12, U.K.\n",
    "\n",
    "  3.       Current: RIKEN Center for Biosystems Dynamics Research, 2-2-3 Minatojima-minamimachi, Kobe 650-0047, Japan.\n",
    "\n",
    "  4.       Current: Department of Genetics, University of Cambridge, Cambridge, CB2 3EH, U.K.\n",
    "\n",
    "  5.       Current: Department of Cell, Developmental and Integrative Biology, University of Alabama at Birmingham, 1918 University Blvd, Birmingham, AL 35294, U.S.A.\n",
    "\n",
    "  6.       Current: GSK, Hills Rd, Cambridge CB2 0QQ, U.K.\n",
    " \n",
    "  7.       Current: The Wellcome Sanger Institute, Wellcome Genome Campus, Cambridge CB10 1SA, U.K.Current: \n",
    "\n",
    "  8.       Current: Immunology Unit, Department of Pathology and Experimental Therapy, School of Medicine, Universitat de Barcelona, 08007, Barcelona, Spain\n",
    "\n",
    "  9.       Laboratory of Molecular Cell Biology and Development, Department of Animal Development and Physiology, Graduate School of Biostudies, Kyoto University, Kyoto 606-8501, Japan.\n",
    "\n",
    " 10.       Instituto de Tecnología, Universidad Argentina de la Empresa, Buenos Aires, Argentina.\n",
    "\n",
    "* Joint first authors: Anahí Binagui-Casas, Anna Granés.\n",
    "# Co-corresponding authors: a.binagui-casas@ed.ac.uk, v.wilson@ed.ac.uk\n",
    "</pre>\n",
    "\n",
    "</pre>"
   ]
  },
  {
   "cell_type": "code",
   "execution_count": null,
   "metadata": {},
   "outputs": [],
   "source": []
  }
 ],
 "metadata": {
  "kernelspec": {
   "display_name": "Python [conda env:base] *",
   "language": "python",
   "name": "conda-base-py"
  },
  "language_info": {
   "codemirror_mode": {
    "name": "ipython",
    "version": 3
   },
   "file_extension": ".py",
   "mimetype": "text/x-python",
   "name": "python",
   "nbconvert_exporter": "python",
   "pygments_lexer": "ipython3",
   "version": "3.12.7"
  }
 },
 "nbformat": 4,
 "nbformat_minor": 4
}
